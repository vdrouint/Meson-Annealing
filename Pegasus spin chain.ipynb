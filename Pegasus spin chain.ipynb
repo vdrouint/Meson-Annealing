{
 "cells": [
  {
   "cell_type": "code",
   "execution_count": null,
   "id": "231909e7",
   "metadata": {},
   "outputs": [],
   "source": [
    "from dwave.system import DWaveSampler\n",
    "import minorminer as mm\n",
    "import dwave.inspector"
   ]
  },
  {
   "cell_type": "code",
   "execution_count": null,
   "id": "89e23ce5",
   "metadata": {
    "scrolled": true
   },
   "outputs": [],
   "source": [
    "f = open(\"token.txt\", \"r\")\n",
    "sampler = DWaveSampler(solver=dict(topology__type='pegasus'),token=f.read())\n",
    "print(\"QPU {} was selected.\".format(sampler.solver.name))"
   ]
  },
  {
   "cell_type": "code",
   "execution_count": null,
   "id": "1d075479",
   "metadata": {},
   "outputs": [],
   "source": [
    "#create a target graph\n",
    "T=nx.Graph()\n",
    "T.add_edges_from(sampler.edgelist)\n",
    "T.add_nodes_from(sampler.nodelist)"
   ]
  },
  {
   "cell_type": "code",
   "execution_count": null,
   "id": "cff6b996",
   "metadata": {},
   "outputs": [],
   "source": [
    "#create a source graph\n",
    "S=nx.Graph()\n",
    "#spin chain length\n",
    "N=2000\n",
    "#define the nodes\n",
    "S.add_nodes_from(list(range(N)))\n",
    "spins=list(S.nodes)\n",
    "#define the edges. the first node is also the last node (PBC)\n",
    "for i in range(len(spins)-1):\n",
    "    S.add_edge(spins[i],spins[i+1])\n",
    "S.add_edge(spins[len(spins)-1],spins[0])"
   ]
  },
  {
   "cell_type": "code",
   "execution_count": null,
   "id": "6198ce1e",
   "metadata": {},
   "outputs": [],
   "source": [
    "cond=0\n",
    "count=0\n",
    "\n",
    "while (cond==0 and count<1000):\n",
    "\n",
    "    embedding=mm.find_embedding(S,T,verbose=1)\n",
    "\n",
    "    biggerthan1=[]\n",
    "    for value in embedding.values():\n",
    "        if len(value)>1:\n",
    "            biggerthan1.append(value)\n",
    "    \n",
    "    if len(biggerthan1)>0:\n",
    "        cond=0\n",
    "    if len(biggerthan1)==0:\n",
    "        cond=1\n",
    "        \n",
    "    if count==1000:\n",
    "        print(\"reached max interations\")\n",
    "        \n",
    "    count+=1\n",
    "\n",
    "# print(embedding)"
   ]
  },
  {
   "cell_type": "code",
   "execution_count": null,
   "id": "d0a7f201",
   "metadata": {},
   "outputs": [],
   "source": [
    "couplers={}\n",
    "for edge in list(S.edges):\n",
    "    spin0=edge[0]\n",
    "    spin1=edge[1]\n",
    "    qubit0=embedding.get(spin0)[0]\n",
    "    qubit1=embedding.get(spin1)[0]\n",
    "    couplers.update({(qubit0,qubit1):-1})"
   ]
  }
 ],
 "metadata": {
  "kernelspec": {
   "display_name": "Python 3 (ipykernel)",
   "language": "python",
   "name": "python3"
  },
  "language_info": {
   "codemirror_mode": {
    "name": "ipython",
    "version": 3
   },
   "file_extension": ".py",
   "mimetype": "text/x-python",
   "name": "python",
   "nbconvert_exporter": "python",
   "pygments_lexer": "ipython3",
   "version": "3.11.0"
  }
 },
 "nbformat": 4,
 "nbformat_minor": 5
}
