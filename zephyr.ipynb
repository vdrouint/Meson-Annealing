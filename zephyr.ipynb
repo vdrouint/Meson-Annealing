{
 "cells": [
  {
   "cell_type": "code",
   "execution_count": 14,
   "metadata": {},
   "outputs": [],
   "source": [
    "import numpy as np\n",
    "import matplotlib.pyplot as plt\n",
    "import dwave_networkx as dnx\n",
    "import networkx as nx\n",
    "%matplotlib inline\n",
    "import matplotlib as mpl\n",
    "import math\n",
    "from dwave.system import DWaveSampler\n",
    "import minorminer as mm\n",
    "import dwave.inspector"
   ]
  },
  {
   "cell_type": "code",
   "execution_count": 10,
   "metadata": {},
   "outputs": [
    {
     "name": "stdout",
     "output_type": "stream",
     "text": [
      "QPU Advantage2_prototype1.1 was selected.\n"
     ]
    }
   ],
   "source": [
    "# Use a D-Wave system as the sampler\n",
    "f = open(\"token.txt\", \"r\")\n",
    "#sampler = DWaveSampler(solver=dict(topology__type='chimera'),token=f.read())\n",
    "sampler = DWaveSampler(solver=dict(topology__type='zephyr'),token=f.read())\n",
    "\n",
    "print(\"QPU {} was selected.\".format(sampler.solver.name))"
   ]
  },
  {
   "cell_type": "code",
   "execution_count": 7,
   "metadata": {},
   "outputs": [
    {
     "name": "stdout",
     "output_type": "stream",
     "text": [
      "Chosen topology is:\n",
      "{'type': 'zephyr', 'shape': [4, 4]}\n",
      "Maximum anneal-schedule points: 12\n",
      "Annealing time range: [1.0, 2000.0] (in us)\n",
      "Maximum slope allowed on this solver is 1.00.\n",
      "J range: [-1.0, 1.0]\n",
      "h range: [-4.0, 4.0]\n",
      "Time range of problems sent to QPU: [0. 1.] s\n"
     ]
    }
   ],
   "source": [
    "print(\"Chosen topology is:\")\n",
    "print(sampler.properties[\"topology\"])\n",
    "print(\"Maximum anneal-schedule points: {}\".format(sampler.properties[\"max_anneal_schedule_points\"]))\n",
    "print(\"Annealing time range: {} (in us)\".format(sampler.properties[\"annealing_time_range\"]))\n",
    "\n",
    "max_slope = 1.0/sampler.properties[\"annealing_time_range\"][0]\n",
    "\n",
    "print(\"Maximum slope allowed on this solver is {:.2f}.\".format(max_slope))\n",
    "print(\"J range: {}\".format(sampler.properties[\"j_range\"]))\n",
    "print(\"h range: {}\".format(sampler.properties[\"h_range\"]))\n",
    "print(\"Time range of problems sent to QPU: {} s\".format( (1.0 /10**6) * np.array(sampler.properties[\"problem_run_duration_range\"])))\n",
    "   "
   ]
  },
  {
   "attachments": {},
   "cell_type": "markdown",
   "metadata": {},
   "source": [
    "# test spin reversal transform"
   ]
  },
  {
   "cell_type": "code",
   "execution_count": 15,
   "metadata": {},
   "outputs": [],
   "source": [
    "from dwave.system import DWaveSampler, FixedEmbeddingComposite\n",
    "f = open(\"token.txt\", \"r\")\n",
    "\n",
    "qpu = DWaveSampler(solver=dict(topology__type='zephyr'),token=f.read())\n",
    "Q = {('x1', 'x2'): 1, ('x1', 'z'): -2, ('x2', 'z'): -2, ('z', 'z'): 3}\n",
    "       \n"
   ]
  },
  {
   "cell_type": "code",
   "execution_count": 17,
   "metadata": {},
   "outputs": [],
   "source": [
    "#create a target graph\n",
    "T=nx.Graph()\n",
    "T.add_edges_from(sampler.edgelist)\n",
    "T.add_nodes_from(sampler.nodelist)\n",
    "\n",
    "#create a source graph\n",
    "S=nx.Graph()\n",
    "S.add_node(1)\n",
    "S.add_node(2)\n",
    "S.add_node(3)\n",
    "\n",
    "\n",
    "S.add_edge(1,2)\n",
    "S.add_edge(2,3)\n",
    "S.add_edge(3,1)\n",
    "\n",
    "embedding=mm.find_embedding(S,T)"
   ]
  },
  {
   "cell_type": "code",
   "execution_count": 18,
   "metadata": {},
   "outputs": [
    {
     "data": {
      "text/plain": [
       "{1: [425], 2: [82], 3: [428]}"
      ]
     },
     "execution_count": 18,
     "metadata": {},
     "output_type": "execute_result"
    }
   ],
   "source": [
    "embedding"
   ]
  },
  {
   "cell_type": "code",
   "execution_count": 31,
   "metadata": {},
   "outputs": [],
   "source": [
    "\n",
    "Q = {('1', '2'): 1, ('1', '3'): -2, ('2', '3'): -2, ('3', '3'): 3}\n",
    "#need to transfer to Ising medel !!!!\n",
    "\n",
    "couplers = {(425, 82): 1/4, (425, 428): -1/2, (82, 428): -1/2}\n",
    "hdict = {425:-1/4, 82:-1/4, 428:1/2}\n"
   ]
  },
  {
   "cell_type": "code",
   "execution_count": 28,
   "metadata": {},
   "outputs": [
    {
     "data": {
      "text/plain": [
       "{1: [425], 2: [82], 3: [428]}"
      ]
     },
     "execution_count": 28,
     "metadata": {},
     "output_type": "execute_result"
    }
   ],
   "source": [
    "embedding"
   ]
  },
  {
   "cell_type": "code",
   "execution_count": 30,
   "metadata": {},
   "outputs": [
    {
     "data": {
      "text/plain": [
       "<dwave.system.samplers.dwave_sampler.DWaveSampler at 0x7ffb5a3df130>"
      ]
     },
     "execution_count": 30,
     "metadata": {},
     "output_type": "execute_result"
    }
   ],
   "source": [
    "qpu"
   ]
  },
  {
   "cell_type": "code",
   "execution_count": 38,
   "metadata": {},
   "outputs": [
    {
     "name": "stdout",
     "output_type": "stream",
     "text": [
      "Feasible: [0.21  0.254 0.214 0.322] percent. Time: 39395.21 us\n"
     ]
    }
   ],
   "source": [
    "#1sampleset = FixedEmbeddingComposite(qpu, embedding).sample_qubo(Q, num_reads=500)   \n",
    "num_reads = 500\n",
    "sampleset = qpu.sample_ising(h=hdict,\n",
    "        J=couplers,\n",
    "        num_reads=num_reads)\n",
    "print(\"Feasible: {} percent. Time: {} us\".format(\n",
    "      sampleset.record.num_occurrences[:4]/num_reads,\n",
    "      sampleset.info[\"timing\"][\"qpu_access_time\"]))  "
   ]
  },
  {
   "cell_type": "code",
   "execution_count": 41,
   "metadata": {},
   "outputs": [
    {
     "name": "stdout",
     "output_type": "stream",
     "text": [
      "[([-1, -1, -1], -0.75, 136) ([-1,  1, -1], -0.75, 102)\n",
      " ([ 1, -1, -1], -0.75, 123) ([ 1,  1,  1], -0.75, 139)]\n"
     ]
    }
   ],
   "source": [
    "#1sampleset = FixedEmbeddingComposite(qpu, embedding).sample_qubo(Q, num_reads=500)   \n",
    "num_reads = 500\n",
    "sampleset = qpu.sample_ising(h=hdict,\n",
    "        J=couplers,\n",
    "        num_reads=num_reads,\n",
    "        num_spin_reversal_transforms=10)\n",
    "print(sampleset.record)\n"
   ]
  },
  {
   "cell_type": "code",
   "execution_count": 42,
   "metadata": {},
   "outputs": [
    {
     "name": "stdout",
     "output_type": "stream",
     "text": [
      "Feasible: [0.272 0.204 0.246 0.278] percent. Time: 101002.09999999998 us\n"
     ]
    }
   ],
   "source": [
    "print(\"Feasible: {} percent. Time: {} us\".format(\n",
    "      sampleset.record.num_occurrences[:4]/num_reads,\n",
    "      sampleset.info[\"timing\"][\"qpu_access_time\"]))"
   ]
  }
 ],
 "metadata": {
  "kernelspec": {
   "display_name": "base",
   "language": "python",
   "name": "python3"
  },
  "language_info": {
   "codemirror_mode": {
    "name": "ipython",
    "version": 3
   },
   "file_extension": ".py",
   "mimetype": "text/x-python",
   "name": "python",
   "nbconvert_exporter": "python",
   "pygments_lexer": "ipython3",
   "version": "3.8.8"
  },
  "orig_nbformat": 4
 },
 "nbformat": 4,
 "nbformat_minor": 2
}
