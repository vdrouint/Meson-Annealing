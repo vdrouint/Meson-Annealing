{
 "cells": [
  {
   "cell_type": "code",
   "execution_count": 1,
   "metadata": {},
   "outputs": [],
   "source": [
    "import numpy as np\n",
    "import matplotlib.pyplot as plt\n",
    "import dwave_networkx as dnx\n",
    "import networkx as nx\n",
    "%matplotlib inline\n",
    "import matplotlib as mpl\n",
    "import math\n",
    "from dwave.system import DWaveSampler\n",
    "import minorminer as mm\n",
    "import dwave.inspector"
   ]
  },
  {
   "cell_type": "code",
   "execution_count": 2,
   "metadata": {},
   "outputs": [
    {
     "name": "stdout",
     "output_type": "stream",
     "text": [
      "QPU Advantage_system6.1 was selected.\n"
     ]
    }
   ],
   "source": [
    "# Use a D-Wave system as the sampler\n",
    "f = open(\"token.txt\", \"r\")\n",
    "#sampler = DWaveSampler(solver=dict(topology__type='chimera'),token=f.read())\n",
    "sampler = DWaveSampler(solver=dict(topology__type='pegasus'),token=f.read())\n",
    "\n",
    "print(\"QPU {} was selected.\".format(sampler.solver.name))"
   ]
  },
  {
   "attachments": {},
   "cell_type": "markdown",
   "metadata": {},
   "source": [
    "# Create the embedding on the target graph"
   ]
  },
  {
   "cell_type": "code",
   "execution_count": 3,
   "metadata": {},
   "outputs": [],
   "source": [
    "#create a target graph\n",
    "T=nx.Graph()\n",
    "T.add_edges_from(sampler.edgelist)\n",
    "T.add_nodes_from(sampler.nodelist)"
   ]
  },
  {
   "attachments": {},
   "cell_type": "markdown",
   "metadata": {},
   "source": [
    "we try to embed Nchains disconnected periodic chains (called rings) of 12 qubits each. We use N=12 qubits chains so that we may compare with the results of the other IBM paper."
   ]
  },
  {
   "cell_type": "code",
   "execution_count": 7,
   "metadata": {},
   "outputs": [],
   "source": [
    "#create a source graph\n",
    "S=nx.Graph()\n",
    "#spin chain length\n",
    "Nlen=12\n",
    "#number of chains\n",
    "Nchains=100\n",
    "\n",
    "#define the nodes in base chain\n",
    "base_nodes=[]\n",
    "for i in range(Nlen):\n",
    "    base_nodes.append(i)\n",
    "base_nodes=np.array(base_nodes)\n",
    "#generate all the nodes\n",
    "allnodes=[]\n",
    "for i in range(Nchains):\n",
    "    allnodes.append(list(base_nodes+Nlen*i))\n",
    "#all_nodes is a list of length Nchains, each element is a list of length Nlen\n",
    "\n",
    "#add nodes to source graph\n",
    "for i in range(len(allnodes)):\n",
    "    for j in range(len(allnodes[i])):\n",
    "        S.add_node(allnodes[i][j])\n",
    "\n",
    "#define the edges\n",
    "#loop over all the chains you are trying to embed\n",
    "for i in range(len(allnodes)):\n",
    "    #extract current list of sites for this ring\n",
    "    spinlist=allnodes[i]\n",
    "    for j in range(len(spinlist)-1):\n",
    "        #add the nearest neighbor interaction as an edge\n",
    "        S.add_edge(spinlist[j],spinlist[j+1])\n",
    "    #add the final edge which completes the periodic chain\n",
    "    S.add_edge(spinlist[len(spinlist)-1],spinlist[0])\n",
    "\n",
    "# print the edges, just to see\n",
    "#print(S.edges)\n",
    "#you can see the structure of Nlen chains in this list of edges"
   ]
  },
  {
   "cell_type": "code",
   "execution_count": 8,
   "metadata": {},
   "outputs": [
    {
     "name": "stdout",
     "output_type": "stream",
     "text": [
      "0\n",
      "{0: [4699], 1: [939], 11: [909], 2: [4654], 3: [954], 4: [4610], 5: [1074], 6: [4760], 7: [4759], 8: [789], 9: [788], 10: [4564], 12: [2523], 13: [3568], 23: [3538], 14: [2627], 15: [3403], 16: [3404], 17: [2777], 18: [3464], 19: [3463], 20: [2447], 21: [3523], 22: [2463], 24: [1444], 25: [3652], 35: [1445], 26: [3653], 27: [1578], 28: [3683], 29: [1639], 30: [1640], 31: [3833], 32: [3832], 33: [1504], 34: [3907], 36: [4548], 37: [729], 47: [713], 38: [744], 39: [4533], 40: [4534], 41: [878], 42: [877], 43: [4234], 44: [772], 45: [4323], 46: [712], 48: [2986], 49: [225], 59: [2971], 50: [3030], 51: [150], 52: [3060], 53: [3061], 54: [435], 55: [3167], 56: [450], 57: [3046], 58: [375], 60: [4738], 61: [2484], 71: [2469], 62: [4632], 63: [4631], 64: [2214], 65: [4661], 66: [4660], 67: [2094], 68: [4691], 69: [4692], 70: [4693], 72: [1879], 73: [1880], 83: [3834], 74: [3984], 75: [1730], 76: [3953], 77: [1700], 78: [4044], 79: [1806], 80: [1821], 81: [1820], 82: [3819], 84: [4729], 85: [925], 95: [879], 86: [4774], 87: [4775], 88: [4776], 89: [1285], 90: [4731], 91: [4730], 92: [4715], 93: [1044], 94: [4669], 96: [3919], 97: [3918], 107: [920], 98: [784], 99: [3813], 100: [799], 101: [800], 102: [3978], 103: [740], 104: [3933], 105: [755], 106: [3844], 108: [834], 109: [4668], 119: [4684], 110: [774], 111: [4623], 112: [4624], 113: [983], 114: [4595], 115: [1104], 116: [4670], 117: [1134], 118: [4685], 120: [4319], 121: [2752], 131: [2677], 122: [4349], 123: [4348], 124: [4333], 125: [2497], 126: [4288], 127: [2586], 128: [4214], 129: [2707], 130: [4259], 132: [2472], 133: [5248], 143: [5217], 134: [2577], 135: [5173], 136: [2502], 137: [5158], 138: [2532], 139: [5113], 140: [2397], 141: [5187], 142: [2367], 144: [751], 145: [3198], 155: [3093], 146: [780], 147: [3063], 148: [3062], 149: [585], 150: [3002], 151: [525], 152: [3032], 153: [645], 154: [630], 156: [4869], 157: [1840], 167: [1825], 158: [4854], 159: [1870], 160: [4899], 161: [1841], 162: [4930], 163: [1960], 164: [4795], 165: [1914], 166: [4809], 168: [3997], 169: [1491], 179: [1385], 170: [1492], 171: [4238], 172: [1551], 173: [1550], 174: [3998], 175: [1626], 176: [4043], 177: [1520], 178: [4012], 180: [676], 181: [3303], 191: [675], 182: [3304], 183: [886], 184: [3229], 185: [1021], 186: [1020], 187: [3019], 188: [3018], 189: [705], 190: [2973], 192: [2694], 193: [4634], 203: [4739], 194: [2768], 195: [4559], 196: [2724], 197: [4679], 198: [2814], 199: [4814], 200: [4813], 201: [2665], 202: [2664], 204: [5555], 205: [1214], 215: [1184], 206: [5540], 207: [1109], 208: [5510], 209: [973], 210: [5465], 211: [1003], 212: [1004], 213: [5675], 214: [5676], 216: [3897], 217: [2224], 227: [2210], 218: [3821], 219: [2165], 220: [2164], 221: [3806], 222: [2134], 223: [3791], 224: [3792], 225: [2269], 226: [3926], 228: [4711], 229: [279], 239: [294], 230: [280], 231: [4921], 232: [310], 233: [4786], 234: [264], 235: [263], 236: [4515], 237: [4516], 238: [293], 240: [4371], 241: [1327], 251: [1192], 242: [4417], 243: [1388], 244: [4522], 245: [1523], 246: [4583], 247: [1494], 248: [4537], 249: [4536], 250: [1193], 252: [671], 253: [5027], 263: [5073], 254: [5012], 255: [5013], 256: [746], 257: [4983], 258: [805], 259: [806], 260: [5119], 261: [5104], 262: [791], 264: [4100], 265: [1056], 275: [1175], 266: [4115], 267: [1176], 268: [4191], 269: [1236], 270: [4086], 271: [1340], 272: [3936], 273: [1280], 274: [3966], 276: [5667], 277: [5666], 287: [5668], 278: [5651], 279: [2114], 280: [5621], 281: [2234], 282: [2249], 283: [5652], 284: [5653], 285: [2519], 286: [2504], 288: [5456], 289: [2233], 299: [2219], 290: [5487], 291: [2293], 292: [5337], 293: [2203], 294: [5426], 295: [5427], 296: [2413], 297: [5547], 298: [5546], 300: [3477], 301: [2358], 311: [3462], 302: [3612], 303: [2268], 304: [3702], 305: [2329], 306: [2328], 307: [3582], 308: [2388], 309: [3567], 310: [2343], 312: [1086], 313: [4145], 323: [1085], 314: [1041], 315: [4099], 316: [995], 317: [1010], 318: [3965], 319: [1100], 320: [3890], 321: [1055], 322: [3950], 324: [5584], 325: [824], 335: [944], 326: [5568], 327: [5567], 328: [659], 329: [5658], 330: [689], 331: [5613], 332: [5614], 333: [884], 334: [5524], 336: [2505], 337: [3103], 347: [3058], 338: [3102], 339: [2356], 340: [3162], 341: [2250], 342: [3072], 343: [2400], 344: [3087], 345: [3088], 346: [2550], 348: [4518], 349: [638], 359: [4519], 350: [4472], 351: [578], 352: [4367], 353: [4368], 354: [652], 355: [4353], 356: [4354], 357: [953], 358: [4504], 360: [4092], 361: [2346], 371: [2420], 362: [4167], 363: [2256], 364: [2255], 365: [4062], 366: [4063], 367: [2511], 368: [4078], 369: [2405], 370: [4002], 372: [2837], 373: [2836], 383: [2838], 374: [3224], 375: [2701], 376: [2702], 377: [3389], 378: [2822], 379: [2823], 380: [2824], 381: [3779], 382: [2839], 384: [3688], 385: [2524], 395: [2448], 386: [2525], 387: [3928], 388: [2540], 389: [2541], 390: [4033], 391: [2510], 392: [3898], 393: [2434], 394: [2433], 396: [2060], 397: [4000], 407: [2061], 398: [1910], 399: [4045], 400: [1836], 401: [1851], 402: [1852], 403: [4240], 404: [4241], 405: [2017], 406: [4270], 408: [2341], 409: [2340], 419: [3177], 410: [3057], 411: [2475], 412: [2460], 413: [3012], 414: [2325], 415: [2310], 416: [3147], 417: [2220], 418: [2235], 420: [3609], 421: [1878], 431: [3624], 422: [3579], 423: [1818], 424: [3594], 425: [1848], 426: [1833], 427: [1834], 428: [3729], 429: [3728], 430: [1713], 432: [5379], 433: [1948], 443: [1783], 434: [5394], 435: [5393], 436: [1648], 437: [5423], 438: [1693], 439: [5514], 440: [5499], 441: [1829], 442: [5454], 444: [1748], 445: [4493], 455: [4569], 446: [1643], 447: [4418], 448: [1478], 449: [4477], 450: [1583], 451: [4553], 452: [4538], 453: [4539], 454: [1824], 456: [1767], 457: [5274], 467: [5154], 458: [5259], 459: [1843], 460: [1842], 461: [5229], 462: [1722], 463: [5213], 464: [1662], 465: [5139], 466: [1736], 468: [581], 469: [4923], 479: [580], 470: [596], 471: [595], 472: [4773], 473: [700], 474: [4863], 475: [760], 476: [4728], 477: [639], 478: [4758], 480: [4324], 481: [4339], 491: [832], 482: [952], 483: [4309], 484: [907], 485: [4219], 486: [4204], 487: [922], 488: [923], 489: [4369], 490: [817], 492: [1012], 493: [4444], 503: [4385], 494: [4459], 495: [4460], 496: [1103], 497: [4400], 498: [4401], 499: [1162], 500: [4310], 501: [1147], 502: [4386], 504: [1084], 505: [3770], 515: [3785], 506: [1174], 507: [3801], 508: [1234], 509: [3771], 510: [1249], 511: [3861], 512: [3860], 513: [1069], 514: [1054], 516: [803], 517: [4473], 527: [4638], 518: [4488], 519: [773], 520: [4384], 521: [4383], 522: [728], 523: [4413], 524: [683], 525: [684], 526: [4637], 528: [488], 529: [4547], 539: [489], 530: [623], 531: [4578], 532: [4577], 533: [564], 534: [565], 535: [4757], 536: [4742], 537: [519], 538: [4697], 540: [4656], 541: [1254], 551: [1389], 542: [1239], 543: [4686], 544: [4687], 545: [1374], 546: [1373], 547: [4597], 548: [1419], 549: [1434], 550: [4717], 552: [5226], 553: [1242], 563: [1317], 554: [5166], 555: [1376], 556: [5047], 557: [5046], 558: [1181], 559: [5030], 560: [5031], 561: [5016], 562: [1316], 564: [4767], 565: [2304], 575: [2215], 566: [2305], 567: [2306], 568: [5036], 569: [2291], 570: [4962], 571: [2245], 572: [4977], 573: [2201], 574: [2216], 576: [5429], 577: [2668], 587: [2698], 578: [5353], 579: [5368], 580: [2653], 581: [5489], 582: [2683], 583: [2684], 584: [5534], 585: [2759], 586: [5459], 588: [4016], 589: [2105], 599: [2166], 590: [4031], 591: [2031], 592: [4165], 593: [2046], 594: [4150], 595: [1986], 596: [4105], 597: [2075], 598: [4001], 600: [5490], 601: [88], 611: [149], 602: [87], 603: [5310], 604: [178], 605: [163], 606: [164], 607: [5640], 608: [119], 609: [104], 610: [5655], 612: [2284], 613: [3837], 623: [3807], 614: [3838], 615: [2584], 616: [2599], 617: [3763], 618: [3778], 619: [3777], 620: [2419], 621: [3822], 622: [2254], 624: [847], 625: [848], 635: [4278], 626: [4549], 627: [863], 628: [4429], 629: [787], 630: [4458], 631: [698], 632: [4503], 633: [743], 634: [742], 636: [2101], 637: [3281], 647: [3266], 638: [2207], 639: [3431], 640: [2117], 641: [3461], 642: [3476], 643: [2132], 644: [2131], 645: [3221], 646: [2191], 648: [1967], 649: [3475], 659: [3505], 650: [2042], 651: [3445], 652: [1907], 653: [1906], 654: [3295], 655: [2012], 656: [3356], 657: [2147], 658: [3506], 660: [3664], 661: [3665], 671: [828], 662: [978], 663: [3710], 664: [934], 665: [3799], 666: [859], 667: [3814], 668: [844], 669: [3768], 670: [829], 672: [1217], 673: [3501], 683: [1218], 674: [1172], 675: [3545], 676: [1098], 677: [3455], 678: [1128], 679: [3605], 680: [3606], 681: [1173], 682: [3575], 684: [5391], 685: [5392], 695: [1348], 686: [1558], 687: [1543], 688: [5468], 689: [1484], 690: [5587], 691: [1409], 692: [5632], 693: [5631], 694: [1349], 696: [3116], 697: [3101], 707: [3117], 698: [2145], 699: [2130], 700: [3041], 701: [2175], 702: [3086], 703: [2205], 704: [3011], 705: [3026], 706: [2295], 708: [2331], 709: [4137], 719: [4212], 710: [2436], 711: [4228], 712: [4227], 713: [2271], 714: [4271], 715: [4272], 716: [2377], 717: [4302], 718: [2347], 720: [359], 721: [5566], 731: [358], 722: [494], 723: [5627], 724: [524], 725: [5522], 726: [569], 727: [5537], 728: [5536], 729: [419], 730: [5431], 732: [153], 733: [3615], 743: [3555], 734: [138], 735: [3510], 736: [3525], 737: [92], 738: [3420], 739: [3435], 740: [197], 741: [182], 742: [183], 744: [4799], 745: [2650], 755: [4784], 746: [2651], 747: [2666], 748: [5054], 749: [2681], 750: [2696], 751: [5024], 752: [2726], 753: [4904], 754: [2695], 756: [2741], 757: [5069], 767: [2740], 758: [5068], 759: [2501], 760: [2500], 761: [4888], 762: [2560], 763: [4843], 764: [4844], 765: [2800], 766: [4859], 768: [918], 769: [919], 779: [903], 770: [3739], 771: [963], 772: [3724], 773: [889], 774: [3784], 775: [874], 776: [3694], 777: [3709], 778: [904], 780: [5142], 781: [2246], 791: [2307], 782: [2247], 783: [5201], 784: [2232], 785: [5246], 786: [2142], 787: [5276], 788: [2112], 789: [5156], 790: [5157], 792: [1155], 793: [3126], 803: [1140], 794: [1276], 795: [3231], 796: [3216], 797: [1396], 798: [3186], 799: [1350], 800: [3051], 801: [1245], 802: [3141], 804: [1324], 805: [3906], 815: [1323], 806: [3905], 807: [1115], 808: [1114], 809: [3696], 810: [1158], 811: [3725], 812: [1204], 813: [1203], 814: [3636], 816: [2038], 817: [5350], 827: [2037], 818: [5351], 819: [2262], 820: [2261], 821: [2260], 822: [4932], 823: [4931], 824: [2050], 825: [2051], 826: [5095], 828: [4332], 829: [2422], 839: [2257], 830: [4423], 831: [2498], 832: [2513], 833: [4438], 834: [2483], 835: [4452], 836: [2318], 837: [4467], 838: [4466], 840: [3082], 841: [3067], 851: [1365], 842: [1455], 843: [2962], 844: [1290], 845: [3081], 846: [1200], 847: [3096], 848: [3111], 849: [1335], 850: [3036], 852: [4646], 853: [2273], 863: [4647], 854: [4602], 855: [4601], 856: [4616], 857: [2078], 858: [4495], 859: [2093], 860: [4511], 861: [4512], 862: [2423], 864: [305], 865: [304], 875: [3976], 866: [3796], 867: [3795], 868: [139], 869: [140], 870: [3885], 871: [185], 872: [200], 873: [3930], 874: [275], 876: [948], 877: [3574], 887: [933], 878: [873], 879: [3559], 880: [1038], 881: [3620], 882: [1053], 883: [1052], 884: [3440], 885: [992], 886: [3530], 888: [1025], 889: [1040], 899: [4040], 890: [4025], 891: [4024], 892: [906], 893: [4069], 894: [891], 895: [4159], 896: [936], 897: [4070], 898: [965], 900: [4603], 901: [2394], 911: [2379], 902: [2395], 903: [2396], 904: [5052], 905: [2366], 906: [2365], 907: [2364], 908: [4707], 909: [2424], 910: [4662], 912: [107], 913: [106], 923: [108], 914: [3285], 915: [212], 916: [213], 917: [3526], 918: [348], 919: [3661], 920: [214], 921: [3630], 922: [3645], 924: [3841], 925: [215], 935: [274], 926: [3960], 927: [3961], 928: [395], 929: [394], 930: [3736], 931: [379], 932: [364], 933: [3766], 934: [3765], 936: [1363], 937: [1378], 947: [5512], 938: [1379], 939: [5571], 940: [5572], 941: [5557], 942: [5556], 943: [1334], 944: [5662], 945: [1424], 946: [5497], 948: [4873], 949: [2455], 959: [2440], 950: [4992], 951: [2425], 952: [2410], 953: [4963], 954: [2546], 955: [4948], 956: [4933], 957: [2485], 958: [4903], 960: [5605], 961: [2039], 971: [2024], 962: [5501], 963: [2098], 964: [2083], 965: [2084], 966: [5725], 967: [5724], 968: [1904], 969: [5574], 970: [5575], 972: [2266], 973: [2251], 983: [3357], 974: [3297], 975: [2357], 976: [3447], 977: [2252], 978: [3416], 979: [2222], 980: [3507], 981: [3492], 982: [2312], 984: [5611], 985: [284], 995: [449], 986: [5641], 987: [344], 988: [5581], 989: [404], 990: [403], 991: [5416], 992: [343], 993: [5446], 994: [448], 996: [2097], 997: [5365], 1007: [5215], 998: [5364], 999: [5363], 1000: [1678], 1001: [5319], 1002: [1798], 1003: [1797], 1004: [5184], 1005: [5185], 1006: [1977], 1008: [175], 1009: [4845], 1019: [174], 1010: [220], 1011: [4756], 1012: [235], 1013: [4725], 1014: [129], 1015: [4680], 1016: [4695], 1017: [234], 1018: [4635], 1020: [4523], 1021: [1538], 1031: [1568], 1022: [4492], 1023: [4491], 1024: [1328], 1025: [4612], 1026: [1449], 1027: [4642], 1028: [1553], 1029: [4613], 1030: [1569], 1032: [1106], 1033: [4955], 1043: [1105], 1034: [1046], 1035: [1045], 1036: [4819], 1037: [880], 1038: [4804], 1039: [4805], 1040: [1179], 1041: [1180], 1042: [4835], 1044: [621], 1045: [4218], 1055: [4112], 1046: [666], 1047: [4082], 1048: [561], 1049: [3992], 1050: [470], 1051: [4081], 1052: [396], 1053: [4067], 1054: [516], 1056: [3977], 1057: [485], 1067: [575], 1058: [3872], 1059: [3873], 1060: [3874], 1061: [875], 1062: [890], 1063: [3889], 1064: [3888], 1065: [634], 1066: [3917], 1068: [4913], 1069: [1631], 1079: [1661], 1070: [1630], 1071: [4883], 1072: [1600], 1073: [4853], 1074: [1660], 1075: [4764], 1076: [1675], 1077: [1676], 1078: [5033], 1080: [3110], 1081: [1111], 1091: [1050], 1082: [1110], 1083: [3005], 1084: [3004], 1085: [900], 1086: [2944], 1087: [2945], 1088: [1080], 1089: [1081], 1090: [3140], 1092: [2320], 1093: [4782], 1103: [4812], 1094: [4781], 1095: [2020], 1096: [2021], 1097: [4900], 1098: [1975], 1099: [4870], 1100: [1990], 1101: [4810], 1102: [4811], 1104: [3504], 1105: [1772], 1115: [1697], 1106: [3369], 1107: [1861], 1108: [3249], 1109: [1726], 1110: [3383], 1111: [1607], 1112: [3398], 1113: [1682], 1114: [3428], 1116: [2173], 1117: [5411], 1127: [2188], 1118: [5410], 1119: [5425], 1120: [2068], 1121: [5516], 1122: [5517], 1123: [2278], 1124: [5381], 1125: [2248], 1126: [5396], 1128: [1966], 1129: [3160], 1139: [3205], 1130: [1831], 1131: [3145], 1132: [3130], 1133: [1981], 1134: [3265], 1135: [3264], 1136: [1801], 1137: [3189], 1138: [3190], 1140: [4510], 1141: [1898], 1151: [2018], 1142: [4540], 1143: [1928], 1144: [4464], 1145: [1897], 1146: [4390], 1147: [1957], 1148: [4360], 1149: [2047], 1150: [4450], 1152: [3187], 1153: [1545], 1163: [1500], 1154: [3113], 1155: [1621], 1156: [3098], 1157: [1530], 1158: [3202], 1159: [1441], 1160: [3232], 1161: [1486], 1162: [3112], 1164: [4264], 1165: [1011], 1175: [1042], 1166: [4279], 1167: [981], 1168: [980], 1169: [4084], 1170: [1026], 1171: [1027], 1172: [4325], 1173: [1072], 1174: [4355], 1176: [3535], 1177: [1968], 1187: [1862], 1178: [3670], 1179: [1849], 1180: [3639], 1181: [1758], 1182: [3519], 1183: [1668], 1184: [3563], 1185: [3548], 1186: [3549], 1188: [1873], 1189: [5515], 1199: [5529], 1190: [1934], 1191: [5559], 1192: [1814], 1193: [1813], 1194: [5349], 1195: [1933], 1196: [5440], 1197: [5439], 1198: [1888]}\n",
      "density of qubits used: 0.20833333333333334\n"
     ]
    }
   ],
   "source": [
    "#use minorminer to embed this graph (it is really Nchain disconnect graphs)\n",
    "#this may take a while\n",
    "\n",
    "cond=0\n",
    "count=0\n",
    "\n",
    "while (cond==0 and count<1000):\n",
    "    print(count)\n",
    "\n",
    "    embedding=mm.find_embedding(S,T)\n",
    "\n",
    "    #here we make sure that minorminor didn't make any chains \n",
    "    biggerthan1=[]\n",
    "    for value in embedding.values():\n",
    "        if len(value)>1:\n",
    "            biggerthan1.append(value)\n",
    "    #if the embedding has any chains we reject it and try again\n",
    "    if len(biggerthan1)>0:\n",
    "        print(len(biggerthan1),\"chains\")\n",
    "        cond=0\n",
    "        count+=1\n",
    "    if count==999:\n",
    "        print(\"reached max iterations\")   \n",
    "    \n",
    "    #if there are no chains it's a goood embedding\n",
    "    if len(biggerthan1)==0:\n",
    "        cond=1\n",
    "    \n",
    "print(embedding)\n",
    "\n",
    "density = len(embedding)/sampler.properties[\"num_qubits\"]\n",
    "\n",
    "print(\"density of qubits used: {}\".format(density))"
   ]
  },
  {
   "attachments": {},
   "cell_type": "markdown",
   "metadata": {},
   "source": [
    "setting the J and h values on each used qubit for this particular computation."
   ]
  },
  {
   "cell_type": "code",
   "execution_count": 9,
   "metadata": {},
   "outputs": [],
   "source": [
    "jval = -1\n",
    "hval = -0.3\n",
    "\n",
    "#set the coupler's interaction to -1 (FM) \n",
    "couplers={}\n",
    "for edge in list(S.edges):\n",
    "    spin0=edge[0]\n",
    "    spin1=edge[1]\n",
    "    qubit0=embedding.get(spin0)[0]\n",
    "    qubit1=embedding.get(spin1)[0]\n",
    "    couplers.update({(qubit0,qubit1):jval})\n",
    "\n",
    "#set the magnetic fields  \n",
    "hdict={}\n",
    "#set initial state (+1)\n",
    "initial={}\n",
    "for node in list(S.nodes):\n",
    "    spin0=node\n",
    "    qubit0=embedding.get(spin0)[0]\n",
    "    hdict.update({qubit0:hval})\n",
    "    initial.update({qubit0:1.0})\n"
   ]
  },
  {
   "attachments": {},
   "cell_type": "markdown",
   "metadata": {},
   "source": [
    "# info on the sampler properties\n",
    "\n",
    "For future use."
   ]
  },
  {
   "cell_type": "code",
   "execution_count": 11,
   "metadata": {},
   "outputs": [
    {
     "name": "stdout",
     "output_type": "stream",
     "text": [
      "Chosen topology is:\n",
      "{'type': 'pegasus', 'shape': [16]}\n",
      "Maximum anneal-schedule points: 12\n",
      "Annealing time range: [0.5, 2000.0] (in us)\n",
      "Maximum slope allowed on this solver is 2.00.\n",
      "J range: [-1.0, 1.0]\n",
      "h range: [-4.0, 4.0]\n"
     ]
    }
   ],
   "source": [
    "print(\"Chosen topology is:\")\n",
    "print(sampler.properties[\"topology\"])\n",
    "print(\"Maximum anneal-schedule points: {}\".format(sampler.properties[\"max_anneal_schedule_points\"]))\n",
    "print(\"Annealing time range: {} (in us)\".format(sampler.properties[\"annealing_time_range\"]))\n",
    "\n",
    "max_slope = 1.0/sampler.properties[\"annealing_time_range\"][0]\n",
    "\n",
    "print(\"Maximum slope allowed on this solver is {:.2f}.\".format(max_slope))\n",
    "print(\"J range: {}\".format(sampler.properties[\"j_range\"]))\n",
    "print(\"h range: {}\".format(sampler.properties[\"h_range\"]))\n"
   ]
  },
  {
   "attachments": {},
   "cell_type": "markdown",
   "metadata": {},
   "source": [
    "# test run"
   ]
  },
  {
   "cell_type": "code",
   "execution_count": 12,
   "metadata": {},
   "outputs": [],
   "source": [
    "#test_run\n",
    "pausetime = 50    \n",
    "num_reads = 10\n",
    "sval = 0.3\n",
    "rev_sch=[[0.0, 1.0], [1/max_slope, sval], [1/max_slope + pausetime, sval],\n",
    "            [2/max_slope + pausetime, 1.0]]\n",
    "h_sch = [[0.0, 0.0], [1/max_slope, 1.0], [1/max_slope + pausetime, 1.0],\n",
    "        [2/max_slope + pausetime, 0.0]]\n",
    "\n",
    "response = sampler.sample_ising(h=hdict,\n",
    "J=couplers,\n",
    "num_reads=num_reads,\n",
    "anneal_schedule=rev_sch,\n",
    "initial_state=initial,\n",
    "h_gain_schedule=h_sch,\n",
    "answer_mode='raw',\n",
    "reduce_intersample_correlation=True,\n",
    "#reinitialize the initial state after reverse annealing                            \n",
    "reinitialize_state=True)"
   ]
  },
  {
   "cell_type": "code",
   "execution_count": 13,
   "metadata": {},
   "outputs": [
    {
     "data": {
      "text/plain": [
       "{'timing': {'qpu_sampling_time': 9789.8,\n",
       "  'qpu_anneal_time_per_sample': 51.0,\n",
       "  'qpu_readout_time_per_sample': 169.66,\n",
       "  'qpu_access_time': 25709.17,\n",
       "  'qpu_access_overhead_time': 1920.83,\n",
       "  'qpu_programming_time': 15919.37,\n",
       "  'qpu_delay_time_per_sample': 758.32,\n",
       "  'post_processing_overhead_time': 176.0,\n",
       "  'total_post_processing_time': 176.0},\n",
       " 'problem_id': '2010916d-0387-4b50-805c-7b9866b85d96'}"
      ]
     },
     "execution_count": 13,
     "metadata": {},
     "output_type": "execute_result"
    }
   ],
   "source": [
    "response.info"
   ]
  },
  {
   "cell_type": "code",
   "execution_count": 75,
   "metadata": {},
   "outputs": [
    {
     "name": "stdout",
     "output_type": "stream",
     "text": [
      "[422, 670, 444, 687, 426, 693, 698, 429, 428, 661, 440, 669]\n",
      "0.9833333333333334\n"
     ]
    }
   ],
   "source": [
    "#example of getting a chain record for a given random chain\n",
    "\n",
    "indice = []\n",
    "ind = np.random.randint(Nchains) #chain index\n",
    "for i in range(Nlen*ind, Nlen*(ind+1)):\n",
    "    indice.append(np.argwhere(np.array(response.variables) == embedding[i])[0][0])\n",
    "\n",
    "print(indice)\n",
    "\n",
    "chain_record = np.zeros((num_reads, Nlen))\n",
    "avg_m = np.zeros(num_reads)\n",
    "for m in range(num_reads):\n",
    "    chain_record[m,:] = response.record['sample'][m,indice]\n",
    "    avg_m[m] = np.mean(chain_record[m,:])\n",
    "\n",
    "print(np.mean(avg_m))"
   ]
  },
  {
   "cell_type": "code",
   "execution_count": 86,
   "metadata": {},
   "outputs": [],
   "source": [
    "avg_m = np.zeros(num_reads*Nchains)\n",
    "array_fft_z = np.zeros(Nlen)\n",
    "\n",
    "\n",
    "for j in range(Nchains):\n",
    "    #this gets the qubit index for that j-th chain\n",
    "    indice = []\n",
    "    for i in range(Nlen*j, Nlen*(j+1)):\n",
    "        indice.append(np.argwhere(np.array(response.variables) == embedding[i])[0][0])\n",
    "    #the indice list is all the QPU-native qubit index where we but retrieve info.\n",
    "    \n",
    "    chain_record = np.zeros((num_reads, Nlen))\n",
    "    #this will store the data for each read (total of num_reads), for each site in the chain (total of Nlen)\n",
    "    for m in range(num_reads):\n",
    "        chain_record[m,:] = response.record['sample'][m,indice]\n",
    "        #chain_record[m,:] is the m-th Z measurement of this chain j\n",
    "        fft_z = np.fft.fft(chain_record[m,:])\n",
    "        array_fft_z += np.sqrt((fft_z.real)**2 + (fft_z.imag)**2)\n",
    "        avg_m[j*num_reads + m] = np.mean(chain_record[m,:])\n",
    "\n",
    "array_fft_z = array_fft_z/(num_reads*Nchains)\n"
   ]
  },
  {
   "attachments": {},
   "cell_type": "markdown",
   "metadata": {},
   "source": [
    "This is an important function: it allows to reconstruct the chain's data from the full data itself."
   ]
  },
  {
   "cell_type": "code",
   "execution_count": 92,
   "metadata": {},
   "outputs": [
    {
     "name": "stdout",
     "output_type": "stream",
     "text": [
      "<|\\sigma_z (q)|^2> = [11.98        0.01869213  0.0154641   0.012       0.014       0.01379315\n",
      "  0.012       0.01379315  0.014       0.012       0.0154641   0.01869213]\n",
      "avg M_z 0.9983333333333333\n",
      "var M_z 0.0006083333333333336\n"
     ]
    }
   ],
   "source": [
    "print('<|\\sigma_z (q)|^2> = {}'.format(array_fft_z))\n",
    "print('avg M_z',np.mean(avg_m))\n",
    "print('var M_z',np.var(avg_m))"
   ]
  },
  {
   "attachments": {},
   "cell_type": "markdown",
   "metadata": {},
   "source": [
    "# doing the run itself"
   ]
  },
  {
   "attachments": {},
   "cell_type": "markdown",
   "metadata": {},
   "source": [
    "note: parameters for the IBM-spectroscopy paper\n",
    "\n",
    "J=1, h=0.3, g=0.25, t=30, dt=0.4\n",
    "\n",
    "Time steps = 75\n",
    "Circuits = 76\n",
    "\n",
    "Shots = 8192"
   ]
  },
  {
   "attachments": {},
   "cell_type": "markdown",
   "metadata": {},
   "source": [
    "For the D-Wave machine, we have that at s=0.357, A(s)/B(s) = g/J = 0.25.\n",
    "We also have s=0.3, A(s)/B(s) = g/J ~ 0.5."
   ]
  },
  {
   "cell_type": "code",
   "execution_count": 119,
   "metadata": {},
   "outputs": [],
   "source": [
    "#note that the schedules have been adapted, \n",
    "# so that none has a slope lager than the max slope. \n",
    "#this is mostly limited by the h_gain_schedule\n",
    "\n",
    "def run_specific_pause(sval, jval, hval, pausetime, num_reads, check_time):     \n",
    "\n",
    "    #set the coupler's interaction to -1 (FM) \n",
    "    couplers={}\n",
    "    for edge in list(S.edges):\n",
    "        spin0=edge[0]\n",
    "        spin1=edge[1]\n",
    "        qubit0=embedding.get(spin0)[0]\n",
    "        qubit1=embedding.get(spin1)[0]\n",
    "        couplers.update({(qubit0,qubit1):jval})\n",
    "\n",
    "    #set the magnetic fields  \n",
    "    hdict={}\n",
    "    #set initial state (+1)\n",
    "    initial={}\n",
    "    for node in list(S.nodes):\n",
    "        spin0=node\n",
    "        qubit0=embedding.get(spin0)[0]\n",
    "        hdict.update({qubit0:hval})\n",
    "        initial.update({qubit0:1.0})\n",
    "\n",
    "\n",
    "    #reverse anneal schedule (change as needed. but, must start with [0,1] and end at [tf,1])\n",
    "    rev_sch=[[0.0, 1.0], [1/max_slope, sval], [1/max_slope + pausetime, sval],\n",
    "                [2/max_slope + pausetime, 1.0]]\n",
    "    h_sch = [[0.0, 0.0], [1/max_slope, 1.0], [1/max_slope + pausetime, 1.0],\n",
    "            [2/max_slope + pausetime, 0.0]]\n",
    "\n",
    "    #print(\"reverse anneal schedule:\")\n",
    "    #print(rev_sch)\n",
    "    #print(\"\\n\")\n",
    "    avg_m = np.zeros(num_reads*Nchains)\n",
    "    array_fft_z = np.zeros(Nlen)\n",
    "\n",
    "    if check_time:\n",
    "        #print(\"pausetime = {}\".format(pausetime))\n",
    "        estimated_runtime = sampler.solver.estimate_qpu_access_time(num_qubits = len(initial), h=hdict,\n",
    "            J=couplers,\n",
    "            num_reads=num_reads,\n",
    "            anneal_schedule=rev_sch,\n",
    "            initial_state=initial,\n",
    "            h_gain_schedule=h_sch,\n",
    "            answer_mode='raw',\n",
    "            reduce_intersample_correlation=True,\n",
    "            #reinitialize the initial state after reverse annealing                            \n",
    "            reinitialize_state=True)    \n",
    "        timing = estimated_runtime/10**6\n",
    "    else:\n",
    "        response = sampler.sample_ising(h=hdict,\n",
    "        J=couplers,\n",
    "        num_reads=num_reads,\n",
    "        anneal_schedule=rev_sch,\n",
    "        initial_state=initial,\n",
    "        h_gain_schedule=h_sch,\n",
    "        answer_mode='raw',\n",
    "        reduce_intersample_correlation=True,\n",
    "        #reinitialize the initial state after reverse annealing                            \n",
    "        reinitialize_state=True)\n",
    "\n",
    "        for j in range(Nchains):\n",
    "            #this gets the qubit index for that j-th chain\n",
    "            indice = []\n",
    "            for i in range(Nlen*j, Nlen*(j+1)):\n",
    "                indice.append(np.argwhere(np.array(response.variables) == embedding[i])[0][0])\n",
    "            #the indice list is all the QPU-native qubit index where we but retrieve info.\n",
    "            \n",
    "            chain_record = np.zeros((num_reads, Nlen))\n",
    "            #this will store the data for each read (total of num_reads), for each site in the chain (total of Nlen)\n",
    "            for m in range(num_reads):\n",
    "                chain_record[m,:] = response.record['sample'][m,indice]\n",
    "                #chain_record[m,:] is the m-th Z measurement of this chain j\n",
    "                fft_z = np.fft.fft(chain_record[m,:])\n",
    "                array_fft_z += np.sqrt((fft_z.real)**2 + (fft_z.imag)**2)\n",
    "                avg_m[j*num_reads + m] = np.mean(chain_record[m,:])\n",
    "\n",
    "        array_fft_z = array_fft_z/(num_reads*Nchains)\n",
    "        timing = response.info['timing']['qpu_access_time']/10**6 \n",
    "\n",
    "    return avg_m, array_fft_z, timing\n",
    "\n",
    "    "
   ]
  },
  {
   "attachments": {},
   "cell_type": "markdown",
   "metadata": {},
   "source": [
    "# first, time estimate"
   ]
  },
  {
   "cell_type": "code",
   "execution_count": 120,
   "metadata": {},
   "outputs": [
    {
     "name": "stdout",
     "output_type": "stream",
     "text": [
      "Pause of 1.0, Timing of 0.050 s on Advantage_system6.1\n",
      "Pause of 1.5, Timing of 0.050 s on Advantage_system6.1\n",
      "Pause of 2.0, Timing of 0.051 s on Advantage_system6.1\n",
      "Pause of 2.5, Timing of 0.051 s on Advantage_system6.1\n",
      "Pause of 3.0, Timing of 0.051 s on Advantage_system6.1\n",
      "Pause of 3.5, Timing of 0.051 s on Advantage_system6.1\n",
      "Pause of 4.0, Timing of 0.051 s on Advantage_system6.1\n",
      "Pause of 4.5, Timing of 0.051 s on Advantage_system6.1\n",
      "Pause of 5.0, Timing of 0.051 s on Advantage_system6.1\n",
      "Pause of 5.5, Timing of 0.052 s on Advantage_system6.1\n",
      "Pause of 6.0, Timing of 0.052 s on Advantage_system6.1\n",
      "Pause of 6.5, Timing of 0.052 s on Advantage_system6.1\n",
      "Pause of 7.0, Timing of 0.052 s on Advantage_system6.1\n",
      "Pause of 7.5, Timing of 0.052 s on Advantage_system6.1\n",
      "Pause of 8.0, Timing of 0.052 s on Advantage_system6.1\n",
      "Pause of 8.5, Timing of 0.052 s on Advantage_system6.1\n",
      "Pause of 9.0, Timing of 0.053 s on Advantage_system6.1\n",
      "Pause of 9.5, Timing of 0.053 s on Advantage_system6.1\n",
      "Pause of 10.0, Timing of 0.053 s on Advantage_system6.1\n",
      "Pause of 10.5, Timing of 0.053 s on Advantage_system6.1\n",
      "Pause of 11.0, Timing of 0.053 s on Advantage_system6.1\n",
      "Pause of 11.5, Timing of 0.053 s on Advantage_system6.1\n",
      "Pause of 12.0, Timing of 0.053 s on Advantage_system6.1\n",
      "Pause of 12.5, Timing of 0.054 s on Advantage_system6.1\n",
      "Pause of 13.0, Timing of 0.054 s on Advantage_system6.1\n",
      "Pause of 13.5, Timing of 0.054 s on Advantage_system6.1\n",
      "Pause of 14.0, Timing of 0.054 s on Advantage_system6.1\n",
      "Pause of 14.5, Timing of 0.054 s on Advantage_system6.1\n",
      "Pause of 15.0, Timing of 0.054 s on Advantage_system6.1\n",
      "Pause of 15.5, Timing of 0.054 s on Advantage_system6.1\n",
      "Pause of 16.0, Timing of 0.055 s on Advantage_system6.1\n",
      "Pause of 16.5, Timing of 0.055 s on Advantage_system6.1\n",
      "Pause of 17.0, Timing of 0.055 s on Advantage_system6.1\n",
      "Pause of 17.5, Timing of 0.055 s on Advantage_system6.1\n",
      "Pause of 18.0, Timing of 0.055 s on Advantage_system6.1\n",
      "Pause of 18.5, Timing of 0.055 s on Advantage_system6.1\n",
      "Pause of 19.0, Timing of 0.055 s on Advantage_system6.1\n",
      "Pause of 19.5, Timing of 0.056 s on Advantage_system6.1\n",
      "Pause of 20.0, Timing of 0.056 s on Advantage_system6.1\n",
      "Pause of 20.5, Timing of 0.056 s on Advantage_system6.1\n",
      "Pause of 21.0, Timing of 0.056 s on Advantage_system6.1\n",
      "Pause of 21.5, Timing of 0.056 s on Advantage_system6.1\n",
      "Pause of 22.0, Timing of 0.056 s on Advantage_system6.1\n",
      "Pause of 22.5, Timing of 0.056 s on Advantage_system6.1\n",
      "Pause of 23.0, Timing of 0.057 s on Advantage_system6.1\n",
      "Pause of 23.5, Timing of 0.057 s on Advantage_system6.1\n",
      "Pause of 24.0, Timing of 0.057 s on Advantage_system6.1\n",
      "Pause of 24.5, Timing of 0.057 s on Advantage_system6.1\n",
      "Pause of 25.0, Timing of 0.057 s on Advantage_system6.1\n",
      "Pause of 25.5, Timing of 0.057 s on Advantage_system6.1\n",
      "Pause of 26.0, Timing of 0.057 s on Advantage_system6.1\n",
      "Pause of 26.5, Timing of 0.058 s on Advantage_system6.1\n",
      "Pause of 27.0, Timing of 0.058 s on Advantage_system6.1\n",
      "Pause of 27.5, Timing of 0.058 s on Advantage_system6.1\n",
      "Pause of 28.0, Timing of 0.058 s on Advantage_system6.1\n",
      "Pause of 28.5, Timing of 0.058 s on Advantage_system6.1\n",
      "Pause of 29.0, Timing of 0.058 s on Advantage_system6.1\n",
      "Pause of 29.5, Timing of 0.058 s on Advantage_system6.1\n",
      "Pause of 30.0, Timing of 0.059 s on Advantage_system6.1\n",
      "Pause of 30.5, Timing of 0.059 s on Advantage_system6.1\n",
      "Pause of 31.0, Timing of 0.059 s on Advantage_system6.1\n",
      "Pause of 31.5, Timing of 0.059 s on Advantage_system6.1\n",
      "Pause of 32.0, Timing of 0.059 s on Advantage_system6.1\n",
      "Pause of 32.5, Timing of 0.059 s on Advantage_system6.1\n",
      "Pause of 33.0, Timing of 0.059 s on Advantage_system6.1\n",
      "Pause of 33.5, Timing of 0.060 s on Advantage_system6.1\n",
      "Pause of 34.0, Timing of 0.060 s on Advantage_system6.1\n",
      "Pause of 34.5, Timing of 0.060 s on Advantage_system6.1\n",
      "Pause of 35.0, Timing of 0.060 s on Advantage_system6.1\n",
      "Pause of 35.5, Timing of 0.060 s on Advantage_system6.1\n",
      "Pause of 36.0, Timing of 0.060 s on Advantage_system6.1\n",
      "Pause of 36.5, Timing of 0.060 s on Advantage_system6.1\n",
      "Pause of 37.0, Timing of 0.061 s on Advantage_system6.1\n",
      "Pause of 37.5, Timing of 0.061 s on Advantage_system6.1\n",
      "Pause of 38.0, Timing of 0.061 s on Advantage_system6.1\n",
      "Pause of 38.5, Timing of 0.061 s on Advantage_system6.1\n",
      "Pause of 39.0, Timing of 0.061 s on Advantage_system6.1\n",
      "Pause of 39.5, Timing of 0.061 s on Advantage_system6.1\n",
      "Pause of 40.0, Timing of 0.061 s on Advantage_system6.1\n",
      "\n",
      "\n",
      "Total time is 4.415 s\n"
     ]
    }
   ],
   "source": [
    "#set vals\n",
    "\n",
    "sval=0.3\n",
    "#pausetime = 15\n",
    "pause_list = np.linspace(1, 40, 2*39+1) \n",
    "num_reads = 50\n",
    "\n",
    "#time estimate!!!\n",
    "total_time = 0\n",
    "for j in range(len(pause_list)):\n",
    "    avg_m, array_fft, timing = run_specific_pause(sval, -1, -0.1, pause_list[j], num_reads, True)\n",
    "    total_time += timing\n",
    "    print(\"Pause of {}, Timing of {:.3f} s on {}\".format(pause_list[j], timing, sampler.solver.name)) \n",
    "\n",
    "print('\\n')\n",
    "print(\"Total time is {:.3f} s\".format(total_time)) \n",
    "\n",
    "#for j in range(len(pause_list)):\n",
    "#    mag_vals[j], mag_errs[j] = run_specific_pause(sval, pause_list[j], num_reads, False)\n",
    "#    print(\"done with s={}\".format(pause_list[j]))\n",
    "#    print(\"\\n\")\n"
   ]
  },
  {
   "attachments": {},
   "cell_type": "markdown",
   "metadata": {},
   "source": [
    "# Full run"
   ]
  },
  {
   "cell_type": "code",
   "execution_count": 121,
   "metadata": {},
   "outputs": [
    {
     "name": "stdout",
     "output_type": "stream",
     "text": [
      "--Done-- Pause of 1.0, Timing of 0.051 s\n",
      "--Done-- Pause of 1.5, Timing of 0.051 s\n",
      "--Done-- Pause of 2.0, Timing of 0.051 s\n",
      "--Done-- Pause of 2.5, Timing of 0.051 s\n",
      "--Done-- Pause of 3.0, Timing of 0.051 s\n",
      "--Done-- Pause of 3.5, Timing of 0.052 s\n",
      "--Done-- Pause of 4.0, Timing of 0.052 s\n",
      "--Done-- Pause of 4.5, Timing of 0.052 s\n",
      "--Done-- Pause of 5.0, Timing of 0.052 s\n",
      "--Done-- Pause of 5.5, Timing of 0.052 s\n",
      "--Done-- Pause of 6.0, Timing of 0.052 s\n",
      "--Done-- Pause of 6.5, Timing of 0.052 s\n",
      "--Done-- Pause of 7.0, Timing of 0.053 s\n",
      "--Done-- Pause of 7.5, Timing of 0.053 s\n",
      "--Done-- Pause of 8.0, Timing of 0.053 s\n",
      "--Done-- Pause of 8.5, Timing of 0.053 s\n",
      "--Done-- Pause of 9.0, Timing of 0.053 s\n",
      "--Done-- Pause of 9.5, Timing of 0.053 s\n",
      "--Done-- Pause of 10.0, Timing of 0.053 s\n",
      "--Done-- Pause of 10.5, Timing of 0.054 s\n",
      "--Done-- Pause of 11.0, Timing of 0.054 s\n",
      "--Done-- Pause of 11.5, Timing of 0.054 s\n",
      "--Done-- Pause of 12.0, Timing of 0.054 s\n",
      "--Done-- Pause of 12.5, Timing of 0.054 s\n",
      "--Done-- Pause of 13.0, Timing of 0.054 s\n",
      "--Done-- Pause of 13.5, Timing of 0.054 s\n",
      "--Done-- Pause of 14.0, Timing of 0.055 s\n",
      "--Done-- Pause of 14.5, Timing of 0.055 s\n",
      "--Done-- Pause of 15.0, Timing of 0.055 s\n",
      "--Done-- Pause of 15.5, Timing of 0.055 s\n",
      "--Done-- Pause of 16.0, Timing of 0.055 s\n",
      "--Done-- Pause of 16.5, Timing of 0.055 s\n",
      "--Done-- Pause of 17.0, Timing of 0.055 s\n",
      "--Done-- Pause of 17.5, Timing of 0.056 s\n",
      "--Done-- Pause of 18.0, Timing of 0.056 s\n",
      "--Done-- Pause of 18.5, Timing of 0.056 s\n",
      "--Done-- Pause of 19.0, Timing of 0.056 s\n",
      "--Done-- Pause of 19.5, Timing of 0.056 s\n",
      "--Done-- Pause of 20.0, Timing of 0.056 s\n",
      "--Done-- Pause of 20.5, Timing of 0.056 s\n",
      "--Done-- Pause of 21.0, Timing of 0.057 s\n",
      "--Done-- Pause of 21.5, Timing of 0.057 s\n",
      "--Done-- Pause of 22.0, Timing of 0.057 s\n",
      "--Done-- Pause of 22.5, Timing of 0.057 s\n",
      "--Done-- Pause of 23.0, Timing of 0.057 s\n",
      "--Done-- Pause of 23.5, Timing of 0.057 s\n",
      "--Done-- Pause of 24.0, Timing of 0.057 s\n",
      "--Done-- Pause of 24.5, Timing of 0.058 s\n",
      "--Done-- Pause of 25.0, Timing of 0.058 s\n",
      "--Done-- Pause of 25.5, Timing of 0.058 s\n",
      "--Done-- Pause of 26.0, Timing of 0.058 s\n",
      "--Done-- Pause of 26.5, Timing of 0.058 s\n",
      "--Done-- Pause of 27.0, Timing of 0.058 s\n",
      "--Done-- Pause of 27.5, Timing of 0.058 s\n",
      "--Done-- Pause of 28.0, Timing of 0.059 s\n",
      "--Done-- Pause of 28.5, Timing of 0.059 s\n",
      "--Done-- Pause of 29.0, Timing of 0.059 s\n",
      "--Done-- Pause of 29.5, Timing of 0.059 s\n",
      "--Done-- Pause of 30.0, Timing of 0.059 s\n",
      "--Done-- Pause of 30.5, Timing of 0.059 s\n",
      "--Done-- Pause of 31.0, Timing of 0.059 s\n",
      "--Done-- Pause of 31.5, Timing of 0.060 s\n",
      "--Done-- Pause of 32.0, Timing of 0.060 s\n",
      "--Done-- Pause of 32.5, Timing of 0.060 s\n",
      "--Done-- Pause of 33.0, Timing of 0.060 s\n",
      "--Done-- Pause of 33.5, Timing of 0.060 s\n",
      "--Done-- Pause of 34.0, Timing of 0.060 s\n",
      "--Done-- Pause of 34.5, Timing of 0.060 s\n",
      "--Done-- Pause of 35.0, Timing of 0.061 s\n",
      "--Done-- Pause of 35.5, Timing of 0.061 s\n",
      "--Done-- Pause of 36.0, Timing of 0.061 s\n",
      "--Done-- Pause of 36.5, Timing of 0.061 s\n",
      "--Done-- Pause of 37.0, Timing of 0.061 s\n",
      "--Done-- Pause of 37.5, Timing of 0.061 s\n",
      "--Done-- Pause of 38.0, Timing of 0.061 s\n",
      "--Done-- Pause of 38.5, Timing of 0.062 s\n",
      "--Done-- Pause of 39.0, Timing of 0.062 s\n",
      "--Done-- Pause of 39.5, Timing of 0.062 s\n",
      "--Done-- Pause of 40.0, Timing of 0.062 s\n",
      "\n",
      "\n",
      "Total time is 4.455 s\n"
     ]
    }
   ],
   "source": [
    "#set vals\n",
    "\n",
    "sval=0.3\n",
    "jval = -1.0\n",
    "hval = 0.1\n",
    "#pausetime = 15\n",
    "pause_list = np.linspace(1, 40, 2*39+1) \n",
    "num_reads = 50\n",
    "\n",
    "#time estimate!!!\n",
    "total_time = 0\n",
    "sigmaz_avg = np.zeros(len(pause_list))\n",
    "sigmaz_err = np.zeros(len(pause_list))\n",
    "sigmaz_FFT = np.zeros((len(pause_list), Nlen))\n",
    "\n",
    "for j in range(len(pause_list)):\n",
    "    avg_m, array_fft, timing = run_specific_pause(sval, jval, hval, pause_list[j], num_reads, False)\n",
    "    total_time += timing\n",
    "    sigmaz_avg[j] = np.mean(avg_m)\n",
    "    sigmaz_err[j] = np.std(avg_m)\n",
    "    sigmaz_FFT[j, :] = array_fft\n",
    "    print(\"--Done-- Pause of {}, Timing of {:.3f} s\".format(pause_list[j], timing)) \n",
    "\n",
    "print('\\n')\n",
    "print(\"Total time is {:.3f} s\".format(total_time)) \n",
    "\n",
    "#for j in range(len(pause_list)):\n",
    "#    mag_vals[j], mag_errs[j] = run_specific_pause(sval, pause_list[j], num_reads, False)\n",
    "#    print(\"done with s={}\".format(pause_list[j]))\n",
    "#    print(\"\\n\")\n"
   ]
  },
  {
   "cell_type": "code",
   "execution_count": 122,
   "metadata": {},
   "outputs": [],
   "source": [
    "# store arrays\n",
    "save_sigma_avg_err = np.array([sigmaz_avg, sigmaz_err])\n",
    "np.save('data/sigma_s={}_h={}.npy'.format(sval, hval), save_sigma_avg_err)\n",
    "np.save('data/FFT_sigma_s={}_h={}.npy'.format(sval, hval), sigmaz_FFT)\n",
    "\n",
    "#use np.load to load the array"
   ]
  },
  {
   "attachments": {},
   "cell_type": "markdown",
   "metadata": {},
   "source": [
    "# Plotting"
   ]
  },
  {
   "cell_type": "code",
   "execution_count": 123,
   "metadata": {},
   "outputs": [
    {
     "data": {
      "text/plain": [
       "<matplotlib.legend.Legend at 0x7f5ba24e26d0>"
      ]
     },
     "execution_count": 123,
     "metadata": {},
     "output_type": "execute_result"
    },
    {
     "data": {
      "image/png": "[encoded data removed]",
      "text/plain": [
       "<Figure size 640x480 with 1 Axes>"
      ]
     },
     "metadata": {},
     "output_type": "display_data"
    }
   ],
   "source": [
    "\n",
    "fig = plt.figure()\n",
    "x = pause_list\n",
    "y = sigmaz_avg\n",
    "yerr = sigmaz_err**2\n",
    "\n",
    "plt.errorbar(x, y, yerr=yerr, label='s_pause ={}'.format(sval))\n",
    "plt.title('h={}, J = {}, n_reads = {}'.format(hval, jval, num_reads))\n",
    "plt.ylabel(r\"$\\langle \\sigma^z_i (t) \\rangle$\")\n",
    "plt.xlabel(\"pause time t\")\n",
    "plt.legend(loc='lower right')\n",
    "#plt.ylim([0.99, 1.01])\n",
    "\n",
    "#note - BIIIIG error bars!"
   ]
  },
  {
   "cell_type": "code",
   "execution_count": 124,
   "metadata": {},
   "outputs": [
    {
     "data": {
      "image/png": "[encoded data removed]",
      "text/plain": [
       "<Figure size 640x480 with 1 Axes>"
      ]
     },
     "metadata": {},
     "output_type": "display_data"
    }
   ],
   "source": [
    "fftvals = np.abs(np.fft.fft(sigmaz_avg, norm='forward'))\n",
    "y = fftvals\n",
    "x = np.arange(0, len(sigmaz_avg), 1)*2*np.pi/pause_list[-1]\n",
    "plt.plot(x, y, label='s_pause ={}'.format(sval))\n",
    "plt.title('h={}, J = {}, n_reads = {}'.format(hval, jval, num_reads))\n",
    "plt.yscale('log')\n",
    "plt.ylabel(r\"FFT of $\\langle  \\sigma^z (t)\\rangle$\")\n",
    "plt.xlabel(r\"$\\omega/2\\pi$\");\n",
    "#plt.xlim((0,6))"
   ]
  },
  {
   "attachments": {},
   "cell_type": "markdown",
   "metadata": {},
   "source": [
    "Frequency spectra needs to be cut in half. Also, it is too dominated by $\\omega = 0$ signal - need to go to $\\sigma^x$ measurement??"
   ]
  },
  {
   "attachments": {},
   "cell_type": "markdown",
   "metadata": {},
   "source": [
    "**Some conclusions:**\n",
    "- Definitely need more measurements. At the moment, this is 50x100 chains. It would be so much better to have 500x100 chains. The noise would go down. Variance it too high right now.\n",
    "- Each run with those parameters will take about 50 seconds of QPU access. If, at the end of the month, we have remaining access, we will try it for ~4 parameters of g,h\n",
    "- It is also unclear whether something more happens at larger times!\n",
    "- Measuring in other basis would be interesting - how can it be approximated?"
   ]
  },
  {
   "attachments": {},
   "cell_type": "markdown",
   "metadata": {},
   "source": [
    "# Measure in the X and Y basis\n",
    "\n",
    "Of course we measure the Z basis, but we can post-process it to \"measure\" in X and Y. See Chris' note. Works for small chains ($N < 20$). Need to decompose results array into 300 arrays of results for a given chain. It is highly possible that we can only observe the oscillations in the $X$ or $Y$ basis.\n",
    "\n",
    "See Notebook!, can use qutip to get a tensor product for the $Z \\times I \\times I ...$ operators that are then sandwiched between $|\\Psi>_z$. \n",
    "\n",
    "For this, you need the raw data-file, no spin-reversal transformation, and then extract the 12-bit strings one by one in a different file. Then, run anoter program to extract a dict of how often some specific bitstrings (for $N=12$, there are $2^{12}$ of them) appear."
   ]
  },
  {
   "attachments": {},
   "cell_type": "markdown",
   "metadata": {},
   "source": [
    "# h-gain schedule\n",
    "\n",
    "We can set an h-gain schedule, so that, in the reverse annealing, we specifiy $h(t) = [[0,0], [(1-s),h], [(1-s)+t_{p}, h], [2*(1-s) + t_p, 0]]$. Therefore, the time evolution after the quench is the only one that has a term with $g \\neq h \\neq 0$. At each ends on the reverse annealing steps, the Hamiltonian is only $H = -J \\sum_{i=1}^{N-1} \\sigma^z_i \\sigma^z_{i+1}$.\n",
    "\n",
    "See this https://journals.aps.org/prresearch/pdf/10.1103/PhysRevResearch.5.013224 for some insight"
   ]
  }
 ],
 "metadata": {
  "kernelspec": {
   "display_name": "base",
   "language": "python",
   "name": "python3"
  },
  "language_info": {
   "codemirror_mode": {
    "name": "ipython",
    "version": 3
   },
   "file_extension": ".py",
   "mimetype": "text/x-python",
   "name": "python",
   "nbconvert_exporter": "python",
   "pygments_lexer": "ipython3",
   "version": "3.8.8"
  },
  "orig_nbformat": 4
 },
 "nbformat": 4,
 "nbformat_minor": 2
}
