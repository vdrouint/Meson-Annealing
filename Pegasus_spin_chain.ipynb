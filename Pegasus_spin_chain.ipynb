{
 "cells": [
  {
   "cell_type": "markdown",
   "id": "690519b3",
   "metadata": {},
   "source": [
    "# import"
   ]
  },
  {
   "cell_type": "code",
   "execution_count": 60,
   "id": "60a5e0ef",
   "metadata": {},
   "outputs": [],
   "source": [
    "import numpy as np\n",
    "import matplotlib.pyplot as plt\n",
    "import dwave_networkx as dnx\n",
    "import networkx as nx\n",
    "%matplotlib inline\n",
    "import matplotlib as mpl\n",
    "import math\n",
    "from dwave.system import DWaveSampler\n",
    "import minorminer as mm\n",
    "import dwave.inspector"
   ]
  },
  {
   "cell_type": "code",
   "execution_count": 101,
   "id": "7b2c1aa3",
   "metadata": {
    "scrolled": true
   },
   "outputs": [
    {
     "name": "stdout",
     "output_type": "stream",
     "text": [
      "QPU Advantage_system6.1 was selected.\n"
     ]
    }
   ],
   "source": [
    "f = open(\"token.txt\", \"r\")\n",
    "sampler = DWaveSampler(solver=dict(topology__type='pegasus'),token=f.read())\n",
    "print(\"QPU {} was selected.\".format(sampler.solver.name))"
   ]
  },
  {
   "cell_type": "markdown",
   "id": "3efae2af",
   "metadata": {},
   "source": [
    "# target graph (pegasus)"
   ]
  },
  {
   "cell_type": "code",
   "execution_count": 3,
   "id": "fcb5c4dc",
   "metadata": {},
   "outputs": [],
   "source": [
    "#create a target graph\n",
    "T=nx.Graph()\n",
    "T.add_edges_from(sampler.edgelist)\n",
    "T.add_nodes_from(sampler.nodelist)"
   ]
  },
  {
   "cell_type": "markdown",
   "id": "71c527fd",
   "metadata": {
    "heading_collapsed": true
   },
   "source": [
    "# one long chain"
   ]
  },
  {
   "cell_type": "code",
   "execution_count": 58,
   "id": "3e53c7c0",
   "metadata": {
    "hidden": true
   },
   "outputs": [],
   "source": [
    "#create a source graph\n",
    "S=nx.Graph()\n",
    "#spin chain length\n",
    "N=3500\n",
    "#define the nodes\n",
    "S.add_nodes_from(list(range(N)))\n",
    "spins=list(S.nodes)\n",
    "#define the edges. the first node is also the last node (PBC)\n",
    "for i in range(len(spins)-1):\n",
    "    S.add_edge(spins[i],spins[i+1])\n",
    "#impose PBC\n",
    "S.add_edge(spins[len(spins)-1],spins[0])"
   ]
  },
  {
   "cell_type": "code",
   "execution_count": 59,
   "id": "ffa59e60",
   "metadata": {
    "collapsed": true,
    "hidden": true
   },
   "outputs": [
    {
     "name": "stdout",
     "output_type": "stream",
     "text": [
      "0\n",
      "6 chains\n",
      "1\n"
     ]
    },
    {
     "ename": "KeyboardInterrupt",
     "evalue": "embedding cancelled by keyboard interrupt",
     "output_type": "error",
     "traceback": [
      "\u001b[0;31m---------------------------------------------------------------------------\u001b[0m",
      "\u001b[0;31mKeyboardInterrupt\u001b[0m                         Traceback (most recent call last)",
      "\u001b[0;32m/var/folders/zs/mxrf7g1s4k35743ybk1s2n200000gn/T/ipykernel_31645/2611068108.py\u001b[0m in \u001b[0;36m<module>\u001b[0;34m\u001b[0m\n\u001b[1;32m      5\u001b[0m     \u001b[0mprint\u001b[0m\u001b[0;34m(\u001b[0m\u001b[0mcount\u001b[0m\u001b[0;34m)\u001b[0m\u001b[0;34m\u001b[0m\u001b[0;34m\u001b[0m\u001b[0m\n\u001b[1;32m      6\u001b[0m \u001b[0;34m\u001b[0m\u001b[0m\n\u001b[0;32m----> 7\u001b[0;31m     \u001b[0membedding\u001b[0m\u001b[0;34m=\u001b[0m\u001b[0mmm\u001b[0m\u001b[0;34m.\u001b[0m\u001b[0mfind_embedding\u001b[0m\u001b[0;34m(\u001b[0m\u001b[0mS\u001b[0m\u001b[0;34m,\u001b[0m\u001b[0mT\u001b[0m\u001b[0;34m)\u001b[0m\u001b[0;34m\u001b[0m\u001b[0;34m\u001b[0m\u001b[0m\n\u001b[0m\u001b[1;32m      8\u001b[0m \u001b[0;34m\u001b[0m\u001b[0m\n\u001b[1;32m      9\u001b[0m     \u001b[0;31m#here we make sure that minorminor didn't make any chains\u001b[0m\u001b[0;34m\u001b[0m\u001b[0;34m\u001b[0m\u001b[0m\n",
      "\u001b[0;32m/opt/anaconda3/lib/python3.9/site-packages/minorminer/minorminer.py\u001b[0m in \u001b[0;36mfind_embedding\u001b[0;34m(S, T, max_no_improvement, random_seed, timeout, max_beta, tries, inner_rounds, chainlength_patience, max_fill, threads, return_overlap, skip_initialization, verbose, interactive, initial_chains, fixed_chains, restrict_chains, suspend_chains)\u001b[0m\n\u001b[1;32m     39\u001b[0m                    \u001b[0msuspend_chains\u001b[0m\u001b[0;34m=\u001b[0m\u001b[0;34m(\u001b[0m\u001b[0;34m)\u001b[0m\u001b[0;34m,\u001b[0m\u001b[0;34m\u001b[0m\u001b[0;34m\u001b[0m\u001b[0m\n\u001b[1;32m     40\u001b[0m                    ):\n\u001b[0;32m---> 41\u001b[0;31m     return __find_embedding(S, T,\n\u001b[0m\u001b[1;32m     42\u001b[0m                             \u001b[0mmax_no_improvement\u001b[0m\u001b[0;34m=\u001b[0m\u001b[0mmax_no_improvement\u001b[0m\u001b[0;34m,\u001b[0m\u001b[0;34m\u001b[0m\u001b[0;34m\u001b[0m\u001b[0m\n\u001b[1;32m     43\u001b[0m                             \u001b[0mrandom_seed\u001b[0m\u001b[0;34m=\u001b[0m\u001b[0mrandom_seed\u001b[0m\u001b[0;34m,\u001b[0m\u001b[0;34m\u001b[0m\u001b[0;34m\u001b[0m\u001b[0m\n",
      "\u001b[0;32mminorminer/_minorminer.pyx\u001b[0m in \u001b[0;36mminorminer._minorminer.find_embedding\u001b[0;34m()\u001b[0m\n",
      "\u001b[0;31mKeyboardInterrupt\u001b[0m: embedding cancelled by keyboard interrupt"
     ]
    }
   ],
   "source": [
    "cond=0\n",
    "count=0\n",
    "\n",
    "while (cond==0 and count<1000):\n",
    "    print(count)\n",
    "\n",
    "    embedding=mm.find_embedding(S,T)\n",
    "\n",
    "    #here we make sure that minorminor didn't make any chains \n",
    "    biggerthan1=[]\n",
    "    for value in embedding.values():\n",
    "        if len(value)>1:\n",
    "            biggerthan1.append(value)\n",
    "    #if the embedding has any chains we reject it and try again\n",
    "    if len(biggerthan1)>0:\n",
    "        print(len(biggerthan1),\"chains\")\n",
    "        cond=0\n",
    "        count+=1\n",
    "    if count==999:\n",
    "        print(\"reached max iterations\")   \n",
    "    \n",
    "    #if there are no chains it's a goood embedding\n",
    "    if len(biggerthan1)==0:\n",
    "        cond=1\n",
    "    \n",
    "print(embedding)"
   ]
  },
  {
   "cell_type": "code",
   "execution_count": 32,
   "id": "f23ab63d",
   "metadata": {
    "hidden": true
   },
   "outputs": [],
   "source": [
    "couplers={}\n",
    "for edge in list(S.edges):\n",
    "    spin0=edge[0]\n",
    "    spin1=edge[1]\n",
    "    qubit0=embedding.get(spin0)[0]\n",
    "    qubit1=embedding.get(spin1)[0]\n",
    "    couplers.update({(qubit0,qubit1):-1})"
   ]
  },
  {
   "cell_type": "markdown",
   "id": "fe0ed77d",
   "metadata": {},
   "source": [
    "# many small chains"
   ]
  },
  {
   "cell_type": "code",
   "execution_count": 97,
   "id": "828a160c",
   "metadata": {},
   "outputs": [],
   "source": [
    "#create a source graph\n",
    "S=nx.Graph()\n",
    "#spin chain length\n",
    "Nlen=10\n",
    "#number of chains\n",
    "Nchains=5\n",
    "\n",
    "#define the nodes in base chain\n",
    "base_nodes=[]\n",
    "for i in range(Nlen):\n",
    "    base_nodes.append(i)\n",
    "base_nodes=np.array(base_nodes)\n",
    "#generate all the nodes\n",
    "allnodes=[]\n",
    "for i in range(Nchains):\n",
    "    allnodes.append(list(base_nodes+Nlen*i))\n",
    "#add nodes to source graph\n",
    "for i in range(len(allnodes)):\n",
    "    for j in range(len(allnodes[i])):\n",
    "        S.add_node(allnodes[i][j])\n",
    "\n",
    "#define the edges\n",
    "for i in range(len(allnodes)):\n",
    "    spinlist=allnodes[i]\n",
    "    for j in range(len(spinlist)-1):\n",
    "        S.add_edge(spinlist[j],spinlist[j+1])\n",
    "    S.add_edge(spinlist[len(spinlist)-1],spinlist[0])"
   ]
  },
  {
   "cell_type": "code",
   "execution_count": 99,
   "id": "b1e4f5cb",
   "metadata": {},
   "outputs": [
    {
     "name": "stdout",
     "output_type": "stream",
     "text": [
      "0\n",
      "{0: [4031], 1: [4030], 9: [2105], 2: [1986], 3: [4165], 4: [4166], 5: [2181], 6: [4136], 7: [2166], 8: [4046], 10: [5463], 11: [749], 19: [5462], 12: [5448], 13: [5449], 14: [929], 15: [5599], 16: [5598], 17: [5597], 18: [554], 20: [879], 21: [4669], 29: [878], 22: [1044], 23: [1043], 24: [4535], 25: [1148], 26: [1163], 27: [4505], 28: [4504], 30: [5236], 31: [447], 39: [327], 32: [5206], 33: [387], 34: [5071], 35: [341], 36: [4951], 37: [311], 38: [326], 40: [1457], 41: [1458], 49: [3292], 42: [3592], 43: [3591], 44: [1293], 45: [1308], 46: [1307], 47: [3381], 48: [1366]}\n"
     ]
    }
   ],
   "source": [
    "cond=0\n",
    "count=0\n",
    "\n",
    "while (cond==0 and count<1000):\n",
    "    print(count)\n",
    "\n",
    "    embedding=mm.find_embedding(S,T)\n",
    "\n",
    "    #here we make sure that minorminor didn't make any chains \n",
    "    biggerthan1=[]\n",
    "    for value in embedding.values():\n",
    "        if len(value)>1:\n",
    "            biggerthan1.append(value)\n",
    "    #if the embedding has any chains we reject it and try again\n",
    "    if len(biggerthan1)>0:\n",
    "        print(len(biggerthan1),\"chains\")\n",
    "        cond=0\n",
    "        count+=1\n",
    "    if count==999:\n",
    "        print(\"reached max iterations\")   \n",
    "    \n",
    "    #if there are no chains it's a goood embedding\n",
    "    if len(biggerthan1)==0:\n",
    "        cond=1\n",
    "    \n",
    "print(embedding)"
   ]
  },
  {
   "cell_type": "code",
   "execution_count": 100,
   "id": "b1d6088a",
   "metadata": {},
   "outputs": [],
   "source": [
    "couplers={}\n",
    "for edge in list(S.edges):\n",
    "    spin0=edge[0]\n",
    "    spin1=edge[1]\n",
    "    qubit0=embedding.get(spin0)[0]\n",
    "    qubit1=embedding.get(spin1)[0]\n",
    "    couplers.update({(qubit0,qubit1):-1})"
   ]
  },
  {
   "cell_type": "markdown",
   "id": "bae327f0",
   "metadata": {
    "heading_collapsed": true
   },
   "source": [
    "# anneal"
   ]
  },
  {
   "cell_type": "code",
   "execution_count": 33,
   "id": "fdf82785",
   "metadata": {
    "hidden": true
   },
   "outputs": [
    {
     "name": "stdout",
     "output_type": "stream",
     "text": [
      "  31 32 33 34 35 36 38 48 49 50 51 53 55 56 58 59 65 ... 5729  energy num_oc.\n",
      "0 -1 -1 -1 -1 +1 +1 -1 -1 -1 +1 +1 -1 -1 -1 -1 +1 +1 ...   -1 -2780.0       1\n",
      "1 +1 +1 +1 +1 +1 +1 -1 +1 +1 +1 +1 -1 +1 +1 -1 -1 +1 ...   -1 -2780.0       1\n",
      "2 -1 -1 -1 -1 -1 -1 +1 -1 -1 -1 -1 +1 +1 +1 +1 +1 +1 ...   -1 -2776.0       1\n",
      "3 -1 -1 -1 -1 -1 -1 -1 -1 -1 -1 -1 -1 -1 -1 -1 -1 -1 ...   -1 -2776.0       1\n",
      "4 -1 -1 -1 -1 +1 +1 -1 +1 +1 +1 +1 -1 +1 +1 -1 -1 -1 ...   -1 -2772.0       1\n",
      "5 -1 -1 -1 -1 +1 +1 +1 +1 +1 +1 +1 +1 +1 +1 -1 -1 -1 ...   -1 -2764.0       1\n",
      "6 -1 -1 -1 -1 +1 +1 -1 +1 +1 +1 +1 -1 -1 -1 +1 +1 +1 ...   -1 -2760.0       1\n",
      "7 +1 +1 +1 +1 -1 -1 +1 -1 -1 -1 -1 -1 +1 +1 +1 +1 +1 ...   +1 -2756.0       1\n",
      "8 -1 -1 -1 -1 +1 +1 +1 -1 +1 +1 +1 +1 -1 -1 +1 +1 -1 ...   +1 -2756.0       1\n",
      "9 -1 -1 -1 -1 -1 -1 -1 -1 -1 -1 -1 -1 -1 -1 +1 +1 +1 ...   -1 -2744.0       1\n",
      "['SPIN', 10 rows, 10 samples, 3000 variables]\n"
     ]
    },
    {
     "data": {
      "text/plain": [
       "'http://127.0.0.1:18000/?problemId=d0bca4ee-7084-49e0-84fc-04efaca6a431'"
      ]
     },
     "execution_count": 33,
     "metadata": {},
     "output_type": "execute_result"
    }
   ],
   "source": [
    "response=sampler.sample_ising(h={},J=couplers,annealing_time=1,num_reads=10)\n",
    "print(response)\n",
    "dwave.inspector.show(response)"
   ]
  },
  {
   "cell_type": "code",
   "execution_count": null,
   "id": "3b90caa8",
   "metadata": {
    "hidden": true
   },
   "outputs": [],
   "source": []
  }
 ],
 "metadata": {
  "kernelspec": {
   "display_name": "Python 3 (ipykernel)",
   "language": "python",
   "name": "python3"
  },
  "language_info": {
   "codemirror_mode": {
    "name": "ipython",
    "version": 3
   },
   "file_extension": ".py",
   "mimetype": "text/x-python",
   "name": "python",
   "nbconvert_exporter": "python",
   "pygments_lexer": "ipython3",
   "version": "3.9.7"
  }
 },
 "nbformat": 4,
 "nbformat_minor": 5
}
