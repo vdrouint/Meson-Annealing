{
 "cells": [
  {
   "cell_type": "code",
   "execution_count": 2,
   "metadata": {},
   "outputs": [],
   "source": [
    "import numpy as np\n",
    "import matplotlib.pyplot as plt\n",
    "import dwave_networkx as dnx\n",
    "import dimod\n",
    "import networkx as nx\n",
    "%matplotlib inline\n",
    "import dwave.inspector\n",
    "import matplotlib as mpl\n",
    "import math\n",
    "from dwave.system import DWaveSampler"
   ]
  },
  {
   "cell_type": "code",
   "execution_count": 7,
   "metadata": {},
   "outputs": [
    {
     "name": "stdout",
     "output_type": "stream",
     "text": [
      "QPU DW_2000Q_6 was selected.\n"
     ]
    }
   ],
   "source": [
    "# Use a D-Wave system as the sampler\n",
    "f = open(\"token.txt\", \"r\")\n",
    "sampler = DWaveSampler(solver=dict(topology__type='chimera'),token=f.read())\n",
    "\n",
    "print(\"QPU {} was selected.\".format(sampler.solver.name))"
   ]
  },
  {
   "cell_type": "code",
   "execution_count": 14,
   "metadata": {},
   "outputs": [
    {
     "name": "stdout",
     "output_type": "stream",
     "text": [
      "Real chain length is 32 qubits.\n"
     ]
    }
   ],
   "source": [
    "chain=[4,0,7,3,5,1,6,2,130,133,129,134,131,132,128,135,143,136,140,139,142,137,141,138,10,14,9,13,11,15,8,12,4]\n",
    "#the length of \"chain\" is 32+1 because the first qubit (4) is repeated (PBC)\n",
    "#print(\"Chain length is {}.\".format(len(chain)))\n",
    "\n",
    "#write the chain as tuples\n",
    "chain_tups=[]\n",
    "for i in range(len(chain)-1):\n",
    "    q0=chain[i]\n",
    "    q1=chain[i+1]\n",
    "    chain_tups.append((q0,q1))\n",
    "\n",
    "#define a function to reverse tuple\n",
    "def Reverse(tup):\n",
    "    return (tup[1],tup[0])\n",
    "\n",
    "#check each tuple as to wether they are active in the chain\n",
    "for tup in chain_tups:\n",
    "    if (tup not in sampler.edgelist and Reverse(tup) not in sampler.edgelist):\n",
    "        print(tup)\n",
    "\n",
    "#finalize the coupler dictionary\n",
    "chain_couplers={}\n",
    "for tup in chain_tups:\n",
    "    chain_couplers.update({tup:jval})\n",
    "\n",
    "#check qubits\n",
    "chain_qubs=[]\n",
    "for tup in chain_tups:\n",
    "    chain_qubs.append(tup[0])\n",
    "    chain_qubs.append(tup[1])\n",
    "chain_qubs=list(set(chain_qubs))\n",
    "print(\"Real chain length is {} qubits.\".format(len(chain_qubs)))\n",
    "\n",
    "for i in range(len(chain_qubs)):\n",
    "    q=chain_qubs[i]\n",
    "    if q not in sampler.nodelist:\n",
    "        print(q)"
   ]
  },
  {
   "attachments": {},
   "cell_type": "markdown",
   "metadata": {},
   "source": [
    "info on the sampler properties"
   ]
  },
  {
   "cell_type": "code",
   "execution_count": 16,
   "metadata": {},
   "outputs": [
    {
     "name": "stdout",
     "output_type": "stream",
     "text": [
      "Maximum anneal-schedule points: 12\n",
      "Annealing time range: [1.0, 2000.0]\n",
      "Maximum slope allowed on this solver is 1.00.\n"
     ]
    }
   ],
   "source": [
    "print(\"Maximum anneal-schedule points: {}\".format(sampler.properties[\"max_anneal_schedule_points\"]))\n",
    "print(\"Annealing time range: {}\".format(sampler.properties[\"annealing_time_range\"]))\n",
    "\n",
    "max_slope = 1.0/sampler.properties[\"annealing_time_range\"][0]\n",
    "\n",
    "print(\"Maximum slope allowed on this solver is {:.2f}.\".format(max_slope))"
   ]
  },
  {
   "attachments": {},
   "cell_type": "markdown",
   "metadata": {},
   "source": [
    "# doing the run itself"
   ]
  },
  {
   "attachments": {},
   "cell_type": "markdown",
   "metadata": {},
   "source": [
    "note: parameters for the IBM-spectroscopy paper\n",
    "\n",
    "J=1, h=0.3, g=0.25, t=30, dt=0.4\n",
    "\n",
    "Time steps = 75\n",
    "Circuits = 76\n",
    "\n",
    "Shots = 8192"
   ]
  },
  {
   "attachments": {},
   "cell_type": "markdown",
   "metadata": {},
   "source": [
    "For the D-Wave machine, we have that at s=0.357, A(s)/B(s) = g/J = 0.25."
   ]
  },
  {
   "cell_type": "code",
   "execution_count": null,
   "metadata": {},
   "outputs": [],
   "source": [
    "#set vals\n",
    "hval=-0.1\n",
    "jval=-2.0\n",
    "sval=0.353\n",
    "pausetime = 15"
   ]
  },
  {
   "cell_type": "code",
   "execution_count": 59,
   "metadata": {},
   "outputs": [],
   "source": [
    "def run_specific_pause(hval, jval, sval, pausetime, num_reads):\n",
    "\n",
    "    #set initial state (+1)\n",
    "    initial={}\n",
    "    for q in chain_qubs:\n",
    "        initial.update({int(q):1.0})\n",
    "        \n",
    "    #set hs\n",
    "    hdict={}\n",
    "    for q in chain_qubs:\n",
    "        hdict.update({q:hval})\n",
    "        \n",
    "    #reverse anneal schedule (change as needed. but, must start with [0,1] and end at [tf,1])\n",
    "    rev_sch=[[0.0, 1.0], [(1 - sval), sval], [(1 - sval) + pausetime, sval],\n",
    "            [2*(1 - sval) + pausetime, 1.0]]\n",
    "\n",
    "    #print(\"reverse anneal schedule:\")\n",
    "    #print(rev_sch)\n",
    "    #print(\"\\n\")\n",
    "\n",
    "\n",
    "    response = sampler.sample_ising(h=hdict,\n",
    "        J=chain_couplers,\n",
    "        num_reads=num_reads,\n",
    "        anneal_schedule=rev_sch,\n",
    "        initial_state=initial,\n",
    "        #reinitialize the initial state after reverse annealing                            \n",
    "        reinitialize_state=True)\n",
    "\n",
    "    mag_avg = 0\n",
    "    mag_err = 0\n",
    "    for i in range(len(response.record)):\n",
    "        mag_avg += np.mean(response.record[i][0])\n",
    "        mag_err += np.std(response.record[i][0])\n",
    "    mag_avg = mag_avg/len(response.record)\n",
    "    mag_err = mag_err/len(response.record)\n",
    "\n",
    "    return mag_avg, mag_err\n",
    "    "
   ]
  },
  {
   "cell_type": "code",
   "execution_count": 70,
   "metadata": {},
   "outputs": [
    {
     "name": "stdout",
     "output_type": "stream",
     "text": [
      "done with s=5.0\n",
      "\n",
      "\n",
      "done with s=8.947368421052632\n",
      "\n",
      "\n",
      "done with s=12.894736842105264\n",
      "\n",
      "\n",
      "done with s=16.842105263157894\n",
      "\n",
      "\n",
      "done with s=20.789473684210527\n",
      "\n",
      "\n",
      "done with s=24.736842105263158\n",
      "\n",
      "\n",
      "done with s=28.684210526315788\n",
      "\n",
      "\n",
      "done with s=32.631578947368425\n",
      "\n",
      "\n",
      "done with s=36.578947368421055\n",
      "\n",
      "\n",
      "done with s=40.526315789473685\n",
      "\n",
      "\n",
      "done with s=44.473684210526315\n",
      "\n",
      "\n",
      "done with s=48.421052631578945\n",
      "\n",
      "\n",
      "done with s=52.368421052631575\n",
      "\n",
      "\n",
      "done with s=56.315789473684205\n",
      "\n",
      "\n",
      "done with s=60.26315789473684\n",
      "\n",
      "\n",
      "done with s=64.21052631578948\n",
      "\n",
      "\n",
      "done with s=68.15789473684211\n",
      "\n",
      "\n",
      "done with s=72.10526315789474\n",
      "\n",
      "\n",
      "done with s=76.05263157894737\n",
      "\n",
      "\n",
      "done with s=80.0\n",
      "\n",
      "\n"
     ]
    }
   ],
   "source": [
    "#set vals\n",
    "hval=-0.1\n",
    "jval=-2.0\n",
    "sval=0.353\n",
    "#pausetime = 15\n",
    "pause_list = np.linspace(5, 80, 20) \n",
    "num_reads = 100\n",
    "\n",
    "mag_vals = np.zeros(len(pause_list))\n",
    "mag_errs = np.zeros(len(pause_list))\n",
    "\n",
    "for j in range(len(pause_list)):\n",
    "    mag_vals[j], mag_errs[j] = run_specific_pause(hval, jval, sval, pause_list[j], num_reads)\n",
    "    print(\"done with s={}\".format(pause_list[j]))\n",
    "    print(\"\\n\")\n"
   ]
  },
  {
   "cell_type": "code",
   "execution_count": 72,
   "metadata": {},
   "outputs": [
    {
     "data": {
      "text/plain": [
       "(0.9, 1.1)"
      ]
     },
     "execution_count": 72,
     "metadata": {},
     "output_type": "execute_result"
    },
    {
     "data": {
      "image/png": "[encoded data removed]",
      "text/plain": [
       "<Figure size 640x480 with 1 Axes>"
      ]
     },
     "metadata": {},
     "output_type": "display_data"
    }
   ],
   "source": [
    "\n",
    "fig = plt.figure()\n",
    "x = pause_list\n",
    "y = mag_vals\n",
    "yerr = mag_errs\n",
    "\n",
    "plt.errorbar(x, y, yerr=yerr, label='s_pause ={}'.format(sval))\n",
    "plt.title('h={}, J = {}, n_reads = {}'.format(hval, jval, num_reads))\n",
    "plt.ylabel(r\"$\\langle \\sigma^z_i (t) \\rangle$\")\n",
    "plt.xlabel(\"pause time t\")\n",
    "plt.legend(loc='lower right')\n",
    "plt.ylim([0.9, 1.1])"
   ]
  },
  {
   "cell_type": "code",
   "execution_count": 85,
   "metadata": {},
   "outputs": [
    {
     "data": {
      "image/png": "[encoded data removed]",
      "text/plain": [
       "<Figure size 640x480 with 1 Axes>"
      ]
     },
     "metadata": {},
     "output_type": "display_data"
    }
   ],
   "source": [
    "fftvals = np.abs(np.fft.fft(mag_vals))\n",
    "plt.plot(fftvals)\n",
    "plt.yscale('log')\n",
    "plt.ylabel(r\"FFT of $\\langle  \\sigma^z (t)\\rangle$\")\n",
    "plt.xlabel(r\"$\\omega$\");"
   ]
  }
 ],
 "metadata": {
  "kernelspec": {
   "display_name": "base",
   "language": "python",
   "name": "python3"
  },
  "language_info": {
   "codemirror_mode": {
    "name": "ipython",
    "version": 3
   },
   "file_extension": ".py",
   "mimetype": "text/x-python",
   "name": "python",
   "nbconvert_exporter": "python",
   "pygments_lexer": "ipython3",
   "version": "3.8.8"
  },
  "orig_nbformat": 4
 },
 "nbformat": 4,
 "nbformat_minor": 2
}
